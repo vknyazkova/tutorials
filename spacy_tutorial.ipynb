{
 "cells": [
  {
   "cell_type": "markdown",
   "id": "c92dd74a",
   "metadata": {},
   "source": [
    "# Installs and imports"
   ]
  },
  {
   "cell_type": "code",
   "execution_count": 1,
   "id": "19bc4d25",
   "metadata": {
    "scrolled": true
   },
   "outputs": [
    {
     "name": "stdout",
     "output_type": "stream",
     "text": [
      "Requirement already satisfied: spacy in /Users/viktoriaknazkova/anaconda3/lib/python3.11/site-packages (3.5.4)\n",
      "Requirement already satisfied: spacy-legacy<3.1.0,>=3.0.11 in /Users/viktoriaknazkova/anaconda3/lib/python3.11/site-packages (from spacy) (3.0.12)\n",
      "Requirement already satisfied: spacy-loggers<2.0.0,>=1.0.0 in /Users/viktoriaknazkova/anaconda3/lib/python3.11/site-packages (from spacy) (1.0.5)\n",
      "Requirement already satisfied: murmurhash<1.1.0,>=0.28.0 in /Users/viktoriaknazkova/anaconda3/lib/python3.11/site-packages (from spacy) (1.0.10)\n",
      "Requirement already satisfied: cymem<2.1.0,>=2.0.2 in /Users/viktoriaknazkova/anaconda3/lib/python3.11/site-packages (from spacy) (2.0.8)\n",
      "Requirement already satisfied: preshed<3.1.0,>=3.0.2 in /Users/viktoriaknazkova/anaconda3/lib/python3.11/site-packages (from spacy) (3.0.9)\n",
      "Requirement already satisfied: thinc<8.2.0,>=8.1.8 in /Users/viktoriaknazkova/anaconda3/lib/python3.11/site-packages (from spacy) (8.1.12)\n",
      "Requirement already satisfied: wasabi<1.2.0,>=0.9.1 in /Users/viktoriaknazkova/anaconda3/lib/python3.11/site-packages (from spacy) (1.1.2)\n",
      "Requirement already satisfied: srsly<3.0.0,>=2.4.3 in /Users/viktoriaknazkova/anaconda3/lib/python3.11/site-packages (from spacy) (2.4.8)\n",
      "Requirement already satisfied: catalogue<2.1.0,>=2.0.6 in /Users/viktoriaknazkova/anaconda3/lib/python3.11/site-packages (from spacy) (2.0.10)\n",
      "Requirement already satisfied: typer<0.10.0,>=0.3.0 in /Users/viktoriaknazkova/anaconda3/lib/python3.11/site-packages (from spacy) (0.9.0)\n",
      "Requirement already satisfied: pathy>=0.10.0 in /Users/viktoriaknazkova/anaconda3/lib/python3.11/site-packages (from spacy) (0.10.2)\n",
      "Requirement already satisfied: smart-open<7.0.0,>=5.2.1 in /Users/viktoriaknazkova/anaconda3/lib/python3.11/site-packages (from spacy) (5.2.1)\n",
      "Requirement already satisfied: tqdm<5.0.0,>=4.38.0 in /Users/viktoriaknazkova/anaconda3/lib/python3.11/site-packages (from spacy) (4.65.0)\n",
      "Requirement already satisfied: numpy>=1.15.0 in /Users/viktoriaknazkova/anaconda3/lib/python3.11/site-packages (from spacy) (1.24.3)\n",
      "Requirement already satisfied: requests<3.0.0,>=2.13.0 in /Users/viktoriaknazkova/anaconda3/lib/python3.11/site-packages (from spacy) (2.31.0)\n",
      "Requirement already satisfied: pydantic!=1.8,!=1.8.1,<1.11.0,>=1.7.4 in /Users/viktoriaknazkova/anaconda3/lib/python3.11/site-packages (from spacy) (1.10.13)\n",
      "Requirement already satisfied: jinja2 in /Users/viktoriaknazkova/anaconda3/lib/python3.11/site-packages (from spacy) (3.1.2)\n",
      "Requirement already satisfied: setuptools in /Users/viktoriaknazkova/anaconda3/lib/python3.11/site-packages (from spacy) (68.0.0)\n",
      "Requirement already satisfied: packaging>=20.0 in /Users/viktoriaknazkova/anaconda3/lib/python3.11/site-packages (from spacy) (23.0)\n",
      "Requirement already satisfied: langcodes<4.0.0,>=3.2.0 in /Users/viktoriaknazkova/anaconda3/lib/python3.11/site-packages (from spacy) (3.3.0)\n",
      "Requirement already satisfied: typing-extensions>=4.2.0 in /Users/viktoriaknazkova/anaconda3/lib/python3.11/site-packages (from pydantic!=1.8,!=1.8.1,<1.11.0,>=1.7.4->spacy) (4.7.1)\n",
      "Requirement already satisfied: charset-normalizer<4,>=2 in /Users/viktoriaknazkova/anaconda3/lib/python3.11/site-packages (from requests<3.0.0,>=2.13.0->spacy) (2.0.4)\n",
      "Requirement already satisfied: idna<4,>=2.5 in /Users/viktoriaknazkova/anaconda3/lib/python3.11/site-packages (from requests<3.0.0,>=2.13.0->spacy) (3.4)\n",
      "Requirement already satisfied: urllib3<3,>=1.21.1 in /Users/viktoriaknazkova/anaconda3/lib/python3.11/site-packages (from requests<3.0.0,>=2.13.0->spacy) (1.26.16)\n",
      "Requirement already satisfied: certifi>=2017.4.17 in /Users/viktoriaknazkova/anaconda3/lib/python3.11/site-packages (from requests<3.0.0,>=2.13.0->spacy) (2023.7.22)\n",
      "Requirement already satisfied: blis<0.8.0,>=0.7.8 in /Users/viktoriaknazkova/anaconda3/lib/python3.11/site-packages (from thinc<8.2.0,>=8.1.8->spacy) (0.7.11)\n",
      "Requirement already satisfied: confection<1.0.0,>=0.0.1 in /Users/viktoriaknazkova/anaconda3/lib/python3.11/site-packages (from thinc<8.2.0,>=8.1.8->spacy) (0.1.3)\n",
      "Requirement already satisfied: click<9.0.0,>=7.1.1 in /Users/viktoriaknazkova/anaconda3/lib/python3.11/site-packages (from typer<0.10.0,>=0.3.0->spacy) (8.0.4)\n",
      "Requirement already satisfied: MarkupSafe>=2.0 in /Users/viktoriaknazkova/anaconda3/lib/python3.11/site-packages (from jinja2->spacy) (2.1.1)\n"
     ]
    }
   ],
   "source": [
    "!pip install spacy"
   ]
  },
  {
   "cell_type": "code",
   "execution_count": 2,
   "id": "8cd1f5e5",
   "metadata": {
    "scrolled": true
   },
   "outputs": [
    {
     "name": "stdout",
     "output_type": "stream",
     "text": [
      "Collecting ru-core-news-sm==3.5.0\n",
      "  Downloading https://github.com/explosion/spacy-models/releases/download/ru_core_news_sm-3.5.0/ru_core_news_sm-3.5.0-py3-none-any.whl (15.3 MB)\n",
      "\u001b[2K     \u001b[90m━━━━━━━━━━━━━━━━━━━━━━━━━━━━━━━━━━━━━━━━\u001b[0m \u001b[32m15.3/15.3 MB\u001b[0m \u001b[31m10.9 MB/s\u001b[0m eta \u001b[36m0:00:00\u001b[0m00:01\u001b[0m00:01\u001b[0m\n",
      "\u001b[?25hRequirement already satisfied: spacy<3.6.0,>=3.5.0 in /Users/viktoriaknazkova/anaconda3/lib/python3.11/site-packages (from ru-core-news-sm==3.5.0) (3.5.4)\n",
      "Requirement already satisfied: pymorphy3>=1.0.0 in /Users/viktoriaknazkova/anaconda3/lib/python3.11/site-packages (from ru-core-news-sm==3.5.0) (1.2.1)\n",
      "Requirement already satisfied: dawg-python>=0.7.1 in /Users/viktoriaknazkova/anaconda3/lib/python3.11/site-packages (from pymorphy3>=1.0.0->ru-core-news-sm==3.5.0) (0.7.2)\n",
      "Requirement already satisfied: docopt-ng>=0.6 in /Users/viktoriaknazkova/anaconda3/lib/python3.11/site-packages (from pymorphy3>=1.0.0->ru-core-news-sm==3.5.0) (0.9.0)\n",
      "Requirement already satisfied: pymorphy3-dicts-ru in /Users/viktoriaknazkova/anaconda3/lib/python3.11/site-packages (from pymorphy3>=1.0.0->ru-core-news-sm==3.5.0) (2.4.417150.4580142)\n",
      "Requirement already satisfied: spacy-legacy<3.1.0,>=3.0.11 in /Users/viktoriaknazkova/anaconda3/lib/python3.11/site-packages (from spacy<3.6.0,>=3.5.0->ru-core-news-sm==3.5.0) (3.0.12)\n",
      "Requirement already satisfied: spacy-loggers<2.0.0,>=1.0.0 in /Users/viktoriaknazkova/anaconda3/lib/python3.11/site-packages (from spacy<3.6.0,>=3.5.0->ru-core-news-sm==3.5.0) (1.0.5)\n",
      "Requirement already satisfied: murmurhash<1.1.0,>=0.28.0 in /Users/viktoriaknazkova/anaconda3/lib/python3.11/site-packages (from spacy<3.6.0,>=3.5.0->ru-core-news-sm==3.5.0) (1.0.10)\n",
      "Requirement already satisfied: cymem<2.1.0,>=2.0.2 in /Users/viktoriaknazkova/anaconda3/lib/python3.11/site-packages (from spacy<3.6.0,>=3.5.0->ru-core-news-sm==3.5.0) (2.0.8)\n",
      "Requirement already satisfied: preshed<3.1.0,>=3.0.2 in /Users/viktoriaknazkova/anaconda3/lib/python3.11/site-packages (from spacy<3.6.0,>=3.5.0->ru-core-news-sm==3.5.0) (3.0.9)\n",
      "Requirement already satisfied: thinc<8.2.0,>=8.1.8 in /Users/viktoriaknazkova/anaconda3/lib/python3.11/site-packages (from spacy<3.6.0,>=3.5.0->ru-core-news-sm==3.5.0) (8.1.12)\n",
      "Requirement already satisfied: wasabi<1.2.0,>=0.9.1 in /Users/viktoriaknazkova/anaconda3/lib/python3.11/site-packages (from spacy<3.6.0,>=3.5.0->ru-core-news-sm==3.5.0) (1.1.2)\n",
      "Requirement already satisfied: srsly<3.0.0,>=2.4.3 in /Users/viktoriaknazkova/anaconda3/lib/python3.11/site-packages (from spacy<3.6.0,>=3.5.0->ru-core-news-sm==3.5.0) (2.4.8)\n",
      "Requirement already satisfied: catalogue<2.1.0,>=2.0.6 in /Users/viktoriaknazkova/anaconda3/lib/python3.11/site-packages (from spacy<3.6.0,>=3.5.0->ru-core-news-sm==3.5.0) (2.0.10)\n",
      "Requirement already satisfied: typer<0.10.0,>=0.3.0 in /Users/viktoriaknazkova/anaconda3/lib/python3.11/site-packages (from spacy<3.6.0,>=3.5.0->ru-core-news-sm==3.5.0) (0.9.0)\n",
      "Requirement already satisfied: pathy>=0.10.0 in /Users/viktoriaknazkova/anaconda3/lib/python3.11/site-packages (from spacy<3.6.0,>=3.5.0->ru-core-news-sm==3.5.0) (0.10.2)\n",
      "Requirement already satisfied: smart-open<7.0.0,>=5.2.1 in /Users/viktoriaknazkova/anaconda3/lib/python3.11/site-packages (from spacy<3.6.0,>=3.5.0->ru-core-news-sm==3.5.0) (5.2.1)\n",
      "Requirement already satisfied: tqdm<5.0.0,>=4.38.0 in /Users/viktoriaknazkova/anaconda3/lib/python3.11/site-packages (from spacy<3.6.0,>=3.5.0->ru-core-news-sm==3.5.0) (4.65.0)\n",
      "Requirement already satisfied: numpy>=1.15.0 in /Users/viktoriaknazkova/anaconda3/lib/python3.11/site-packages (from spacy<3.6.0,>=3.5.0->ru-core-news-sm==3.5.0) (1.24.3)\n",
      "Requirement already satisfied: requests<3.0.0,>=2.13.0 in /Users/viktoriaknazkova/anaconda3/lib/python3.11/site-packages (from spacy<3.6.0,>=3.5.0->ru-core-news-sm==3.5.0) (2.31.0)\n",
      "Requirement already satisfied: pydantic!=1.8,!=1.8.1,<1.11.0,>=1.7.4 in /Users/viktoriaknazkova/anaconda3/lib/python3.11/site-packages (from spacy<3.6.0,>=3.5.0->ru-core-news-sm==3.5.0) (1.10.13)\n",
      "Requirement already satisfied: jinja2 in /Users/viktoriaknazkova/anaconda3/lib/python3.11/site-packages (from spacy<3.6.0,>=3.5.0->ru-core-news-sm==3.5.0) (3.1.2)\n",
      "Requirement already satisfied: setuptools in /Users/viktoriaknazkova/anaconda3/lib/python3.11/site-packages (from spacy<3.6.0,>=3.5.0->ru-core-news-sm==3.5.0) (68.0.0)\n",
      "Requirement already satisfied: packaging>=20.0 in /Users/viktoriaknazkova/anaconda3/lib/python3.11/site-packages (from spacy<3.6.0,>=3.5.0->ru-core-news-sm==3.5.0) (23.0)\n",
      "Requirement already satisfied: langcodes<4.0.0,>=3.2.0 in /Users/viktoriaknazkova/anaconda3/lib/python3.11/site-packages (from spacy<3.6.0,>=3.5.0->ru-core-news-sm==3.5.0) (3.3.0)\n",
      "Requirement already satisfied: typing-extensions>=4.2.0 in /Users/viktoriaknazkova/anaconda3/lib/python3.11/site-packages (from pydantic!=1.8,!=1.8.1,<1.11.0,>=1.7.4->spacy<3.6.0,>=3.5.0->ru-core-news-sm==3.5.0) (4.7.1)\n",
      "Requirement already satisfied: charset-normalizer<4,>=2 in /Users/viktoriaknazkova/anaconda3/lib/python3.11/site-packages (from requests<3.0.0,>=2.13.0->spacy<3.6.0,>=3.5.0->ru-core-news-sm==3.5.0) (2.0.4)\n",
      "Requirement already satisfied: idna<4,>=2.5 in /Users/viktoriaknazkova/anaconda3/lib/python3.11/site-packages (from requests<3.0.0,>=2.13.0->spacy<3.6.0,>=3.5.0->ru-core-news-sm==3.5.0) (3.4)\n",
      "Requirement already satisfied: urllib3<3,>=1.21.1 in /Users/viktoriaknazkova/anaconda3/lib/python3.11/site-packages (from requests<3.0.0,>=2.13.0->spacy<3.6.0,>=3.5.0->ru-core-news-sm==3.5.0) (1.26.16)\n",
      "Requirement already satisfied: certifi>=2017.4.17 in /Users/viktoriaknazkova/anaconda3/lib/python3.11/site-packages (from requests<3.0.0,>=2.13.0->spacy<3.6.0,>=3.5.0->ru-core-news-sm==3.5.0) (2023.7.22)\n",
      "Requirement already satisfied: blis<0.8.0,>=0.7.8 in /Users/viktoriaknazkova/anaconda3/lib/python3.11/site-packages (from thinc<8.2.0,>=8.1.8->spacy<3.6.0,>=3.5.0->ru-core-news-sm==3.5.0) (0.7.11)\n",
      "Requirement already satisfied: confection<1.0.0,>=0.0.1 in /Users/viktoriaknazkova/anaconda3/lib/python3.11/site-packages (from thinc<8.2.0,>=8.1.8->spacy<3.6.0,>=3.5.0->ru-core-news-sm==3.5.0) (0.1.3)\n",
      "Requirement already satisfied: click<9.0.0,>=7.1.1 in /Users/viktoriaknazkova/anaconda3/lib/python3.11/site-packages (from typer<0.10.0,>=0.3.0->spacy<3.6.0,>=3.5.0->ru-core-news-sm==3.5.0) (8.0.4)\n",
      "Requirement already satisfied: MarkupSafe>=2.0 in /Users/viktoriaknazkova/anaconda3/lib/python3.11/site-packages (from jinja2->spacy<3.6.0,>=3.5.0->ru-core-news-sm==3.5.0) (2.1.1)\n",
      "\u001b[38;5;2m✔ Download and installation successful\u001b[0m\n",
      "You can now load the package via spacy.load('ru_core_news_sm')\n"
     ]
    }
   ],
   "source": [
    "!python -m spacy download ru_core_news_sm"
   ]
  },
  {
   "cell_type": "code",
   "execution_count": 3,
   "id": "a9090e3a",
   "metadata": {},
   "outputs": [],
   "source": [
    "import spacy\n",
    "\n",
    "\n",
    "nlp = spacy.load(\"ru_core_news_sm\")  # загружаем предобученный пайплайн для языка"
   ]
  },
  {
   "cell_type": "markdown",
   "id": "3001f3fc",
   "metadata": {},
   "source": [
    "# Spacy pipelines"
   ]
  },
  {
   "cell_type": "markdown",
   "id": "6a49d454",
   "metadata": {},
   "source": [
    "[Пайплайн](https://spacy.io/api#architecture-pipeline) состоит из нескольких компонентов, которые последовательно применяются друг за другом. Вот так можно посмотреть из каких компонентов состоит пайплайн:"
   ]
  },
  {
   "cell_type": "code",
   "execution_count": 15,
   "id": "3a046dd6",
   "metadata": {},
   "outputs": [
    {
     "data": {
      "text/plain": [
       "[('tok2vec', <spacy.pipeline.tok2vec.Tok2Vec at 0x15c05b290>),\n",
       " ('morphologizer',\n",
       "  <spacy.pipeline.morphologizer.Morphologizer at 0x15c05b0b0>),\n",
       " ('parser', <spacy.pipeline.dep_parser.DependencyParser at 0x14829f370>),\n",
       " ('attribute_ruler',\n",
       "  <spacy.pipeline.attributeruler.AttributeRuler at 0x15dad1fd0>),\n",
       " ('lemmatizer', <spacy.lang.ru.lemmatizer.RussianLemmatizer at 0x15c087810>),\n",
       " ('ner', <spacy.pipeline.ner.EntityRecognizer at 0x15e1a18c0>)]"
      ]
     },
     "execution_count": 15,
     "metadata": {},
     "output_type": "execute_result"
    }
   ],
   "source": [
    "nlp.pipeline"
   ]
  },
  {
   "cell_type": "markdown",
   "id": "e4c94b6b",
   "metadata": {},
   "source": [
    "А вот так можно узнать, какой аттрибут какой компонент приписывает:"
   ]
  },
  {
   "cell_type": "code",
   "execution_count": 4,
   "id": "0ca2d966",
   "metadata": {},
   "outputs": [
    {
     "data": {
      "text/plain": [
       "{'summary': {'tok2vec': {'assigns': ['doc.tensor'],\n",
       "   'requires': [],\n",
       "   'scores': [],\n",
       "   'retokenizes': False},\n",
       "  'morphologizer': {'assigns': ['token.morph', 'token.pos'],\n",
       "   'requires': [],\n",
       "   'scores': ['pos_acc', 'morph_acc', 'morph_per_feat'],\n",
       "   'retokenizes': False},\n",
       "  'parser': {'assigns': ['token.dep',\n",
       "    'token.head',\n",
       "    'token.is_sent_start',\n",
       "    'doc.sents'],\n",
       "   'requires': [],\n",
       "   'scores': ['dep_uas',\n",
       "    'dep_las',\n",
       "    'dep_las_per_type',\n",
       "    'sents_p',\n",
       "    'sents_r',\n",
       "    'sents_f'],\n",
       "   'retokenizes': False},\n",
       "  'attribute_ruler': {'assigns': [],\n",
       "   'requires': [],\n",
       "   'scores': [],\n",
       "   'retokenizes': False},\n",
       "  'lemmatizer': {'assigns': ['token.lemma'],\n",
       "   'requires': [],\n",
       "   'scores': ['lemma_acc'],\n",
       "   'retokenizes': False},\n",
       "  'ner': {'assigns': ['doc.ents', 'token.ent_iob', 'token.ent_type'],\n",
       "   'requires': [],\n",
       "   'scores': ['ents_f', 'ents_p', 'ents_r', 'ents_per_type'],\n",
       "   'retokenizes': False}},\n",
       " 'problems': {'tok2vec': [],\n",
       "  'morphologizer': [],\n",
       "  'parser': [],\n",
       "  'attribute_ruler': [],\n",
       "  'lemmatizer': [],\n",
       "  'ner': []},\n",
       " 'attrs': {'token.head': {'assigns': ['parser'], 'requires': []},\n",
       "  'token.ent_iob': {'assigns': ['ner'], 'requires': []},\n",
       "  'doc.ents': {'assigns': ['ner'], 'requires': []},\n",
       "  'token.is_sent_start': {'assigns': ['parser'], 'requires': []},\n",
       "  'token.ent_type': {'assigns': ['ner'], 'requires': []},\n",
       "  'doc.tensor': {'assigns': ['tok2vec'], 'requires': []},\n",
       "  'doc.sents': {'assigns': ['parser'], 'requires': []},\n",
       "  'token.morph': {'assigns': ['morphologizer'], 'requires': []},\n",
       "  'token.dep': {'assigns': ['parser'], 'requires': []},\n",
       "  'token.pos': {'assigns': ['morphologizer'], 'requires': []},\n",
       "  'token.lemma': {'assigns': ['lemmatizer'], 'requires': []}}}"
      ]
     },
     "execution_count": 4,
     "metadata": {},
     "output_type": "execute_result"
    }
   ],
   "source": [
    "nlp.analyze_pipes()"
   ]
  },
  {
   "cell_type": "markdown",
   "id": "a3faff08",
   "metadata": {},
   "source": [
    "Например, отсюда видно, что частеречный тег и грамматические отношению задаются морфологизатором, а лемма задается лемматизатором."
   ]
  },
  {
   "cell_type": "code",
   "execution_count": 10,
   "id": "da8204bf",
   "metadata": {},
   "outputs": [],
   "source": [
    "morphologizer = nlp.get_pipe('morphologizer')"
   ]
  },
  {
   "cell_type": "markdown",
   "id": "fd8243e9",
   "metadata": {},
   "source": [
    "Поэтому, если нас не устраивает результат какого-то компонента можно: </br>\n",
    "а) заменить его на другой </br>\n",
    "б) добавить еще один, который исправлять ошибки первого</br>\n",
    "\n",
    "О том как добавлять компоненты написано [тут](https://spacy.io/usage/processing-pipelines#custom-components)"
   ]
  },
  {
   "cell_type": "markdown",
   "id": "473def20",
   "metadata": {},
   "source": [
    "## Custom components"
   ]
  },
  {
   "cell_type": "markdown",
   "id": "895e75f4",
   "metadata": {},
   "source": [
    "Например, как-то так можно добавить морфологизатор на основе pymorphy"
   ]
  },
  {
   "cell_type": "code",
   "execution_count": 29,
   "id": "757653b4",
   "metadata": {},
   "outputs": [
    {
     "name": "stdout",
     "output_type": "stream",
     "text": [
      "Requirement already satisfied: pymorphy3 in /Users/viktoriaknazkova/anaconda3/lib/python3.11/site-packages (1.2.1)\r\n",
      "Requirement already satisfied: dawg-python>=0.7.1 in /Users/viktoriaknazkova/anaconda3/lib/python3.11/site-packages (from pymorphy3) (0.7.2)\r\n",
      "Requirement already satisfied: docopt-ng>=0.6 in /Users/viktoriaknazkova/anaconda3/lib/python3.11/site-packages (from pymorphy3) (0.9.0)\r\n",
      "Requirement already satisfied: pymorphy3-dicts-ru in /Users/viktoriaknazkova/anaconda3/lib/python3.11/site-packages (from pymorphy3) (2.4.417150.4580142)\r\n"
     ]
    }
   ],
   "source": [
    "!pip install pymorphy3"
   ]
  },
  {
   "cell_type": "code",
   "execution_count": 32,
   "id": "7090544b",
   "metadata": {},
   "outputs": [
    {
     "name": "stdout",
     "output_type": "stream",
     "text": [
      "Collecting russian-tagsets\n",
      "  Downloading russian-tagsets-0.6.tar.gz (23 kB)\n",
      "  Preparing metadata (setup.py) ... \u001b[?25ldone\n",
      "\u001b[?25hBuilding wheels for collected packages: russian-tagsets\n",
      "  Building wheel for russian-tagsets (setup.py) ... \u001b[?25ldone\n",
      "\u001b[?25h  Created wheel for russian-tagsets: filename=russian_tagsets-0.6-py3-none-any.whl size=24619 sha256=8f33d93191819c7f9dda5d61b9b19b7ee49175fa3145dcf9ca2bc48a3fad28c0\n",
      "  Stored in directory: /Users/viktoriaknazkova/Library/Caches/pip/wheels/47/7b/e4/a364b538d52cbc10811f88365af0f40bc2137d1dffa73d7082\n",
      "Successfully built russian-tagsets\n",
      "Installing collected packages: russian-tagsets\n",
      "Successfully installed russian-tagsets-0.6\n"
     ]
    }
   ],
   "source": [
    "!pip install russian-tagsets"
   ]
  },
  {
   "cell_type": "code",
   "execution_count": 89,
   "id": "5a62fdbe",
   "metadata": {},
   "outputs": [],
   "source": [
    "import pymorphy3\n",
    "from russian_tagsets import converters\n",
    "from spacy.language import Language\n",
    "\n",
    "morph = pymorphy3.MorphAnalyzer(lang='ru')\n",
    "oc2ud = converters.converter('opencorpora-int', 'ud20')  # чтобы сконвертировать в ud\n",
    "\n",
    "@Language.component(\"custom_morphologizer\")\n",
    "def my_component(doc):\n",
    "    for t in doc:\n",
    "        parsed = morph.parse(t.text)[0]\n",
    "        t.lemma_ = parsed.normal_form\n",
    "        \n",
    "        oc_tag = str(parsed.tag)\n",
    "        ud_tag = oc2ud(oc_tag).split(' ')\n",
    "        t.pos_ = ud_tag[0]\n",
    "        t.set_morph(ud_tag[1])\n",
    "    return doc"
   ]
  },
  {
   "cell_type": "code",
   "execution_count": 91,
   "id": "3d826a71",
   "metadata": {},
   "outputs": [
    {
     "data": {
      "text/plain": [
       "[('tok2vec', <spacy.pipeline.tok2vec.Tok2Vec at 0x1235a4470>),\n",
       " ('custom_morphologizer', <function __main__.my_component(doc)>),\n",
       " ('parser', <spacy.pipeline.dep_parser.DependencyParser at 0x11e71fdf0>),\n",
       " ('attribute_ruler',\n",
       "  <spacy.pipeline.attributeruler.AttributeRuler at 0x2ad57ce50>)]"
      ]
     },
     "execution_count": 91,
     "metadata": {},
     "output_type": "execute_result"
    }
   ],
   "source": [
    "custom_nlp = spacy.load(\"ru_core_news_sm\", exclude=['morphologizer', 'lemmatizer', 'ner'])\n",
    "custom_nlp.add_pipe('custom_morphologizer', after='tok2vec')\n",
    "custom_nlp.pipeline"
   ]
  },
  {
   "cell_type": "code",
   "execution_count": 92,
   "id": "254c2f81",
   "metadata": {},
   "outputs": [],
   "source": [
    "ex_text = 'Подкоренное выражение представляет из себя сумму квадрата разности и одночлена четыре а икс. '"
   ]
  },
  {
   "cell_type": "code",
   "execution_count": 93,
   "id": "6a0437fd",
   "metadata": {},
   "outputs": [
    {
     "name": "stdout",
     "output_type": "stream",
     "text": [
      "Подкоренное\tподкоренной\tADJ\tCase=Nom|Gender=Neut|Number=Sing\n",
      "выражение\tвыражение\tNOUN\tAnimacy=Inan|Case=Acc|Gender=Neut|Number=Sing\n",
      "представляет\tпредставлять\tVERB\tAspect=Imp|Mood=Ind|Number=Sing|Person=3|Tense=Pres|VerbForm=Fin\n",
      "из\tиз\tADP\t\n",
      "себя\tсебя\tPRON\tCase=Acc|Number=Sing\n",
      "сумму\tсумма\tNOUN\tAnimacy=Inan|Case=Acc|Gender=Fem|Number=Sing\n",
      "квадрата\tквадрат\tNOUN\tAnimacy=Inan|Case=Gen|Gender=Masc|Number=Sing\n",
      "разности\tразность\tNOUN\tAnimacy=Inan|Case=Gen|Gender=Fem|Number=Sing\n",
      "и\tи\tCCONJ\t\n",
      "одночлена\tодночлен\tNOUN\tAnimacy=Inan|Case=Gen|Gender=Masc|Number=Sing\n",
      "четыре\tчетыре\tNUM\tAnimacy=Inan|Case=Acc\n",
      "а\tа\tCCONJ\t\n",
      "икс\tикс\tNOUN\tAnimacy=Inan|Case=Nom|Gender=Masc|Number=Sing\n",
      ".\t.\tPUNCT\t\n"
     ]
    }
   ],
   "source": [
    "for t in custom_nlp(ex_text):\n",
    "    print(t.text, t.lemma_, t.pos_, t.morph, sep='\\t')"
   ]
  },
  {
   "cell_type": "code",
   "execution_count": 94,
   "id": "7114634f",
   "metadata": {},
   "outputs": [
    {
     "name": "stdout",
     "output_type": "stream",
     "text": [
      "Подкоренное\tподкоренной\tADJ\tCase=Nom|Degree=Pos|Gender=Neut|Number=Sing\n",
      "выражение\tвыражение\tNOUN\tAnimacy=Inan|Case=Nom|Gender=Neut|Number=Sing\n",
      "представляет\tпредставлять\tVERB\tAspect=Imp|Mood=Ind|Number=Sing|Person=Third|Tense=Pres|VerbForm=Fin|Voice=Act\n",
      "из\tиз\tADP\t\n",
      "себя\tсебя\tPRON\tCase=Gen\n",
      "сумму\tсумма\tNOUN\tAnimacy=Inan|Case=Acc|Gender=Fem|Number=Sing\n",
      "квадрата\tквадрат\tNOUN\tAnimacy=Inan|Case=Gen|Gender=Masc|Number=Sing\n",
      "разности\tразность\tNOUN\tAnimacy=Inan|Case=Gen|Gender=Fem|Number=Sing\n",
      "и\tи\tCCONJ\t\n",
      "одночлена\tодночлена\tVERB\tAspect=Perf|Gender=Fem|Number=Sing|StyleVariant=Short|Tense=Past|VerbForm=Part|Voice=Pass\n",
      "четыре\tчетыре\tNUM\tCase=Nom\n",
      "а\tа\tCCONJ\t\n",
      "икс\tикс\tPROPN\tAnimacy=Inan|Case=Nom|Gender=Masc|Number=Sing\n",
      ".\t.\tPUNCT\t\n"
     ]
    }
   ],
   "source": [
    "# сравним с оригинальным\n",
    "for t in nlp(ex_text):\n",
    "    print(t.text, t.lemma_, t.pos_, t.morph, sep='\\t')"
   ]
  },
  {
   "cell_type": "markdown",
   "id": "6d32f522",
   "metadata": {},
   "source": [
    "# Language\n",
    "\n",
    "В spacy есть специальный контейнер - [Language](https://spacy.io/api/language), который содержит в себе все конфиги, дефолтные значения, лукап таблицы, компоненты пайплайна и т.д."
   ]
  },
  {
   "cell_type": "code",
   "execution_count": 125,
   "id": "72e5c412",
   "metadata": {},
   "outputs": [
    {
     "data": {
      "text/plain": [
       "spacy.lang.ru.Russian"
      ]
     },
     "execution_count": 125,
     "metadata": {},
     "output_type": "execute_result"
    }
   ],
   "source": [
    "# Например, предобученная модель, которую мы загружаем через spacy.load создает объект класса нашего языка\n",
    "\n",
    "nlp.__class__"
   ]
  },
  {
   "cell_type": "code",
   "execution_count": 126,
   "id": "d41a8e61",
   "metadata": {},
   "outputs": [
    {
     "data": {
      "text/plain": [
       "(spacy.language.Language,)"
      ]
     },
     "execution_count": 126,
     "metadata": {},
     "output_type": "execute_result"
    }
   ],
   "source": [
    "# который в свою очередь является потомком общего класса Language\n",
    "nlp.__class__.__bases__"
   ]
  },
  {
   "cell_type": "markdown",
   "id": "e6a82bef",
   "metadata": {},
   "source": [
    "Можно [создать](https://spacy.io/usage/linguistic-features#language-subclass) свой собственный класс языка и определить там нужное поведение и аттрибуты. Например, там можно инкапсулировать все кастомные компоненты и добавить нужные лукап таблицы и тд"
   ]
  }
 ],
 "metadata": {
  "kernelspec": {
   "display_name": "Python 3 (ipykernel)",
   "language": "python",
   "name": "python3"
  },
  "language_info": {
   "codemirror_mode": {
    "name": "ipython",
    "version": 3
   },
   "file_extension": ".py",
   "mimetype": "text/x-python",
   "name": "python",
   "nbconvert_exporter": "python",
   "pygments_lexer": "ipython3",
   "version": "3.11.4"
  }
 },
 "nbformat": 4,
 "nbformat_minor": 5
}
